{
 "cells": [
  {
   "cell_type": "markdown",
   "metadata": {},
   "source": [
    "# Projection image = magnified defocused image\n",
    "\n",
    "The wavefront on a detector a distance $z$ from the focus of a convergent probe, after interaction with a transmissive object $O(x)$ placed $\\Delta f$ downstream of the focus, is:\n",
    "\\begin{align}\n",
    " \\psi_{z-\\Delta f}(X; O; P_{\\Delta f}) = \\int O(x) P_{\\Delta f}(x) e^{i\\pi (X-x)^2 / \\lambda (z-\\Delta f)}dx  \\qquad \\text{(1)}\n",
    "\\end{align}\n",
    "this is very general, it applies for a thin object under the Fresnel propagation regime. \n",
    "\n",
    "Now we play a trick, let's break up $e^{i\\pi (X-x)^2 / \\lambda (z-\\Delta f)}$ as follows: take only the exponent (without the $i\\pi / \\lambda$ term)\n",
    "\\begin{align}\n",
    " \\frac{(X-x)^2}{(z-\\Delta f)} &= \\frac{(X'-x)^2}{z_\\text{eff}} - \\frac{x^2}{\\Delta f} + \\frac{X^2}{z} \\qquad \\text{(2)}\\\\\n",
    " \\text{where} \\quad z_\\text{eff} &= \\frac{\\Delta f (z - \\Delta f)}{z} \\quad \\text{and} \\quad X' = X \\frac{\\Delta f}{z}\n",
    "\\end{align}\n",
    "\n",
    "Equation (1) is now:\n",
    "\\begin{align}\n",
    " \\psi_{z-\\Delta f}(X; O; P_{\\Delta f}) = e^{i\\pi X^2 / \\lambda z} \\int O(x) \\left[ P_{\\Delta f}(x) e^{-i\\pi x^2 / \\lambda \\Delta f}\\right]  e^{i\\pi (X'-x)^2 / \\lambda z_\\text{eff}} dx  \\qquad \\text{(3)}\n",
    "\\end{align}\n",
    "so how do we interpret this? Well we can use our definition in (1) and express the projection image $\\psi_{z-\\Delta f}(X; O; P_{\\Delta f})$ in terms of a defocused image:\n",
    "\\begin{align}\n",
    " \\psi_{z-\\Delta f}(X; O; P_{\\Delta f}) = e^{i\\pi X^2 / \\lambda z} \\psi_{z_\\text{eff}}(X\\frac{\\Delta f}{z}; O; P_{\\Delta f}e^{-i\\pi x^2 / \\lambda \\Delta f})\n",
    "\\end{align}\n",
    "So, here is the equivalance: The image of an object illuminated by a convergent probe some  distance from the focus $\\Delta f$, is the same image as would be obtained by the same probe minus the quadratic phase term $\\pi x^2 / \\lambda \\Delta f$ a distance $\\frac{\\Delta f (z - \\Delta f)}{z}$ from of the object, magnified by the factor $z / \\Delta f$."
   ]
  },
  {
   "cell_type": "markdown",
   "metadata": {},
   "source": [
    "Don't believe me? Let's check equation (2):\n",
    "\\begin{align}\n",
    " \\frac{(X'-x)^2}{z_\\text{eff}} - \\frac{x^2}{\\Delta f} + \\frac{X^2}{z} &= \\frac{z}{\\Delta f(z-\\Delta f)} \\left(X\\frac{\\Delta f}{z} - x \\right)^2 - \\frac{x^2}{\\Delta f} + \\frac{X^2}{z} \\\\\n",
    " &= \\frac{z}{\\Delta f(z-\\Delta f)} \\left( X^2 \\frac{\\Delta f^2}{z^2} -2xX\\frac{\\Delta f}{z} + x^2 \\right) - \\frac{x^2}{\\Delta f} + \\frac{X^2}{z} \\\\\n",
    " &=  \\left( X^2 \\frac{\\Delta f}{z(z-\\Delta f)} -2xX\\frac{1}{(z-\\Delta f)} + x^2\\frac{z}{\\Delta f(z-\\Delta f)} \\right) - \\frac{x^2}{\\Delta f} + \\frac{X^2}{z} \\\\\n",
    " &=  X^2 \\frac{\\Delta f + z-\\Delta f}{z(z-\\Delta f)} - 2xX \\frac{1}{(z-\\Delta f)} + x^2\\frac{z - z + \\Delta f}{\\Delta f(z-\\Delta f)}  \\\\\n",
    " &=  X^2 \\frac{1}{(z-\\Delta f)} - 2xX \\frac{1}{(z-\\Delta f)} + x^2\\frac{1}{(z-\\Delta f)}  \\\\\n",
    " &=  \\frac{(X-x)^2}{(z-\\Delta f)} \\quad \\text{as required.}\n",
    "\\end{align}"
   ]
  },
  {
   "cell_type": "markdown",
   "metadata": {},
   "source": [
    "# The sample plane probe on a discrete grid\n",
    "To simulate such images, we need to calculate $P'_{\\Delta f}(x) = P_{\\Delta f}(x)e^{-i\\pi x^2 / \\lambda \\Delta f}$ on a distcrete grid. The sampling is determined by the experiment geometry and the the detector pixel size $\\Delta u$. \n",
    "\n",
    "So $X_n = n \\Delta u$, where $n$ is the pixel index. The most direct and naive approach would be to Fresnel propagate the pupil (with a guessed phase and measured intensity) from the detector to the sample plane. \n"
   ]
  },
  {
   "cell_type": "markdown",
   "metadata": {},
   "source": [
    "### Fresnel propagation from the detector to the sample plane\n",
    "Set:\n",
    "\\begin{align}\n",
    "   P_{z}(X_n) = A(X_n) e^{i \\chi(X_n)}\n",
    "\\end{align}\n",
    "now we can evaluate $P_{\\Delta f}$ with the discrete form of the Fresnel propagator:\n",
    "\\begin{align}\n",
    "   P_{\\Delta f}(X_n) = \\frac{1}{\\sqrt{N}} \\sum_{m=0}^{N-1} \\exp\\left\\{2\\pi i \\frac{mn}{N}\\right\\} \\hat{P}_{z-\\Delta f}(q_m) \\times e^{ i \\pi \\lambda (z-\\Delta f) q_m^2 }\n",
    "\\end{align}\n",
    "\n",
    "So would this work? Not usually. First problem is that the illuminated area of the sample for our experiments is typically ~ 1 um, but $P_{\\Delta f}(X_n)$ will be sampled here by the detector pixel spacing = $\\Delta u$ which is typically about $50\\mu m$. This brings us to the second problem, that $e^{ i \\pi \\lambda (z-\\Delta f) q_m^2 }$ is hopelessly undersampled. To see this, let's expand the Fresnel propagator and look at the local period near some point $q'$:\n",
    "\\begin{align}\n",
    "   e^{ i \\pi \\lambda (z-\\Delta f) (q-q')^2 } &\\approx e^{ -i \\pi \\lambda (z-\\Delta f) q'^2 } e^{ i 2 \\pi \\lambda (z-\\Delta f) q'\\cdot q }\n",
    "\\end{align}\n",
    "\n",
    "so the local period is\n",
    "\\begin{align}\n",
    "   P(q) &= \\frac{1}{q \\lambda (z-\\Delta f)}\n",
    "\\end{align}\n",
    "\n",
    "we want at least 2 pixels per period, so $\\Delta q = \\frac{1}{N \\Delta u}$ should be half the maximum period $P(Q) = P(\\frac{1}{\\Delta u})$, or:\n",
    "\\begin{align}\n",
    "   P(Q) &> 2 \\Delta q \\rightarrow\n",
    "   \\frac{\\Delta u}{\\lambda (z-\\Delta f)} > \\frac{2}{N \\Delta u} \\\\\n",
    "   \\frac{N\\Delta u^2}{2\\lambda} &>  (z-\\Delta f)\n",
    "\\end{align}\n",
    "\n",
    "Putting some numbers, $N=1024$, $\\Delta u = 50\\mu m$, $\\lambda = 10^{-10}$ we have:\n",
    "\\begin{align}\n",
    "   12.8 km > z-\\Delta f\n",
    "\\end{align}\n",
    "\n",
    "Oh, that's fine then..."
   ]
  },
  {
   "cell_type": "markdown",
   "metadata": {},
   "source": [
    "### Fresnel propagation using relation (3)\n",
    "The aim here is use relation (3) to find the sample plane illumination $P_{\\Delta f}$, given prior knowledge of the phase and amplitude of the illumination in the detector plane $P_D(X_n = n\\Delta u)$ on the grid defined by the pixel size on the detector $\\Delta u$. Setting $O=1$ we have:\n",
    "\\begin{align}\n",
    " P'_D(X) &= e^{-i\\pi X^2 / \\lambda z} \\psi_{z-\\Delta f}(X; 1; P_{\\Delta f}) =  \\int P'_{\\Delta f}(x)  e^{i\\pi (X'-x)^2 / \\lambda z_\\text{eff}} dx\n",
    "\\end{align}\n",
    "where I have absorbed the two exponentials into the probe functions with a tick '.\n",
    "\n",
    "Now let us play a bit: Fourier transform both sides with respect to X:\n",
    "\\begin{align}\n",
    "   \\hat{P}'_D(q) &= \\int P'_{\\Delta f}(x) \\left[ \\int e^{-2\\pi i X \\cdot q} e^{i\\pi (X'-x)^2 / \\lambda z_\\text{eff}} dq \\right] dx \n",
    "\\end{align}\n",
    "\n",
    "The Fourier transform over X here is a little tricky because X' is scaled with respect to X ($X' = \\frac{\\Delta f}{z}$):\n",
    "\\begin{align}\n",
    "   \\hat{P}'_D(q) &= \\int P'_{\\Delta f}(x) \\left[\\frac{z}{\\Delta f} e^{-2\\pi i x \\cdot (q z / \\Delta f)} e^{ -i \\pi \\lambda z_\\text{eff} (q z / \\Delta f)^2} \\right] dx \n",
    "\\end{align}\n",
    "\n",
    "Now we have another Fourier transform to perform $x\\rightarrow \\frac{z}{\\Delta f}q$:\n",
    "\\begin{align}\n",
    "   \\hat{P}'_D(q) &= \\frac{z}{\\Delta f}  \\hat{P}'_{\\Delta f}\\left(\\frac{z}{\\Delta f}q\\right) e^{ -i \\pi \\lambda z_\\text{eff} (q z / \\Delta f)^2}\n",
    "\\end{align}\n",
    "\n",
    "Shuffle:\n",
    "\\begin{align}\n",
    "   \\hat{P}'_{\\Delta f}\\left(\\frac{z}{\\Delta f}q\\right) &= \\frac{\\Delta f}{z} \\hat{P}'_D(q) e^{ i \\pi \\lambda z_\\text{eff} (q z / \\Delta f)^2} \n",
    "\\end{align}\n",
    "\n",
    "Inverse Fourier transform $q\\rightarrow x$:\n",
    "\\begin{align}\n",
    "   P'_{\\Delta f}\\left(\\frac{\\Delta f}{z}x\\right) &= \\int e^{2\\pi i x\\cdot q} \\hat{P}'_D(q) e^{ i \\pi \\lambda z_\\text{eff} (q z / \\Delta f)^2} dx\n",
    "\\end{align}"
   ]
  },
  {
   "cell_type": "markdown",
   "metadata": {},
   "source": [
    "\\begin{align}\n",
    "   P'_{\\Delta f}(x_n) &\\approx \\frac{1}{\\sqrt{N}} \\sum_{m=0}^{N-1} \\exp\\left\\{2\\pi i \\frac{mn}{N}\\right\\} \\hat{P}'_D(q_m) \\times e^{ i \\pi \\lambda z_\\text{eff} (q_m z / \\Delta f)^2} \\\\\n",
    "   \\text{where}\\quad q_n &= \\frac{n}{N\\Delta u} \\qquad x_n = n \\frac{\\Delta u \\Delta f}{z}\n",
    "\\end{align}\n",
    "and $\\hat{P}'_D(q_m)$ can be approximated in turn with a DFT of $P'_D(X_n = n\\Delta u)$."
   ]
  },
  {
   "cell_type": "markdown",
   "metadata": {},
   "source": [
    "But, is the Fresnel term well sample here? Let's have a look. We require:\n",
    "\\begin{align}\n",
    "   \\frac{N\\Delta u^2}{2\\lambda} &>  z_\\text{eff} \\frac{z^2}{\\Delta f^2}  =  \\frac{\\Delta f(z-\\Delta f)}{z} \\frac{z^2}{\\Delta f^2} = \\frac{z(z-\\Delta f)}{\\Delta f} \\\\\n",
    "\\end{align}\n",
    "\n",
    "Put in some numbers (same as above), $z = 1m$, $\\Delta f = 100\\mu m$:\n",
    "\\begin{align}\n",
    "   12.8 km &>  \\frac{z(z-\\Delta f)}{\\Delta f} = 10km\\\\\n",
    "\\end{align}\n",
    "hmm, that's closer. How about we keep z fixed and look at the limit on the defocus ($\\Delta f$):\n",
    "\\begin{align}\n",
    "   \\Delta f &> z^2 \\left( \\frac{N \\Delta u^2}{2\\lambda} + z\\right)^{-1} = 78 \\mu m\n",
    "\\end{align}\n",
    "\n",
    "For the cases I have seen this is acceptable..."
   ]
  },
  {
   "cell_type": "markdown",
   "metadata": {},
   "source": [
    "# propagation of the exit-wave to the detector\n",
    "OK, now let's assume that we have $P'_{\\Delta f}(x_n)$, where $x_n = n \\frac{\\Delta u \\Delta f}{z}$. With that, and a model for the object transmission $O(x_n)$, we should be able to simulate the observed diffraction $I(X_n = n \\Delta u) = |\\psi_{z-\\Delta f}(X_n; O; P_{\\Delta f})|^2$.\n",
    "\n",
    "Let's return to relation (3):\n",
    "\\begin{align}\n",
    " \\psi_{z-\\Delta f}(X; O; P_{\\Delta f}) &= e^{i\\pi X^2 / \\lambda z} \\int O(x) P'_{\\Delta f}(x)e^{i\\pi (X'-x)^2 / \\lambda z_\\text{eff}} dx\n",
    "\\end{align}\n",
    "\n",
    "Define:\n",
    "\\begin{align}\n",
    " \\psi'_D(X) &\\equiv  e^{-i\\pi X^2 / \\lambda z} \\psi_{z-\\Delta f}(X; O; P_{\\Delta f}) \\; ,\\qquad \\psi'_S(x) \\equiv  O(x) P_{\\Delta f}(x) e^{-i\\pi x^2 / \\lambda \\Delta f}\n",
    "\\end{align}\n",
    "\n",
    "Now we have:\n",
    "\\begin{align}\n",
    "  \\psi'_D(X) &= \\int \\psi'_S(x) e^{i\\pi (X'-x)^2 / \\lambda z_\\text{eff}} dx\n",
    "\\end{align}\n",
    "\n",
    "Fourier transform both sides with respect to X:\n",
    "\\begin{align}\n",
    "   \\hat{\\psi}'_D(q) &= \\frac{z}{\\Delta f} \\hat{\\psi}'_S\\left(\\frac{z}{\\Delta f}q\\right) e^{ -i \\pi \\lambda z_\\text{eff} (q z / \\Delta f)^2}\n",
    "\\end{align}"
   ]
  },
  {
   "cell_type": "markdown",
   "metadata": {},
   "source": [
    "\\begin{align}\n",
    "   \\psi'_D(x_n) &\\approx \\frac{1}{\\sqrt{N}} \\sum_{m=0}^{N-1} \\exp\\left\\{2\\pi i \\frac{mn}{N}\\right\\} \\hat{\\psi}'_S(q_m) \\times e^{ -i \\pi \\lambda z_\\text{eff} (q_m z / \\Delta f)^2} \\\\\n",
    "   \\text{where}\\quad q_n &= \\frac{n}{N\\Delta u} \\qquad x_n = n \\Delta u\n",
    "\\end{align}\n",
    "and $\\hat{\\psi}'_S(q_m)$ can be approximated in turn with a DFT of $\\psi'_S\\left(x_n = n\\frac{\\Delta f \\Delta u}{z}\\right)$."
   ]
  },
  {
   "cell_type": "code",
   "execution_count": null,
   "metadata": {
    "collapsed": true
   },
   "outputs": [],
   "source": []
  }
 ],
 "metadata": {
  "anaconda-cloud": {},
  "kernelspec": {
   "display_name": "Python [conda root]",
   "language": "python",
   "name": "conda-root-py"
  },
  "language_info": {
   "codemirror_mode": {
    "name": "ipython",
    "version": 3
   },
   "file_extension": ".py",
   "mimetype": "text/x-python",
   "name": "python",
   "nbconvert_exporter": "python",
   "pygments_lexer": "ipython3",
   "version": "3.5.2"
  }
 },
 "nbformat": 4,
 "nbformat_minor": 1
}
